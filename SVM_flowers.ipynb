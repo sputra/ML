{
  "nbformat": 4,
  "nbformat_minor": 0,
  "metadata": {
    "colab": {
      "name": "SVM_flowers.ipynb",
      "provenance": [],
      "collapsed_sections": [],
      "include_colab_link": true
    },
    "kernelspec": {
      "name": "python3",
      "display_name": "Python 3"
    },
    "language_info": {
      "name": "python"
    }
  },
  "cells": [
    {
      "cell_type": "markdown",
      "metadata": {
        "id": "view-in-github",
        "colab_type": "text"
      },
      "source": [
        "<a href=\"https://colab.research.google.com/github/sputra/ML/blob/main/SVM_flowers.ipynb\" target=\"_parent\"><img src=\"https://colab.research.google.com/assets/colab-badge.svg\" alt=\"Open In Colab\"/></a>"
      ]
    },
    {
      "cell_type": "code",
      "metadata": {
        "id": "qgGeJ1kC_pEN"
      },
      "source": [
        "import matplotlib.pyplot as plt\n",
        "import numpy as np\n",
        "import os\n",
        "import cv2\n",
        "import pandas as pd\n",
        "from skimage.transform import resize\n",
        "from skimage.io import imread\n",
        "import random\n",
        "from google.colab.patches import cv2_imshow"
      ],
      "execution_count": null,
      "outputs": []
    },
    {
      "cell_type": "code",
      "metadata": {
        "colab": {
          "base_uri": "https://localhost:8080/"
        },
        "id": "Q8i-Ta7O_38k",
        "outputId": "f738b072-2804-4594-c045-782ec784998e"
      },
      "source": [
        "from google.colab import drive\n",
        "drive.mount('/content/drive')"
      ],
      "execution_count": null,
      "outputs": [
        {
          "output_type": "stream",
          "text": [
            "Mounted at /content/drive\n"
          ],
          "name": "stdout"
        }
      ]
    },
    {
      "cell_type": "code",
      "metadata": {
        "colab": {
          "base_uri": "https://localhost:8080/"
        },
        "id": "0kdeJUSPACEJ",
        "outputId": "2d2767d4-353a-4257-89e7-a2c7aa4963d6"
      },
      "source": [
        "#Dataset\n",
        "kategori_data=['sunflower','dandelion','rose']\n",
        "flat_arr=[]\n",
        "target_arr=[]\n",
        "datadir='/content/drive/MyDrive/dataset2' #Path yang berisi semua gambar yang akan di training\n",
        "\n",
        "for i in kategori_data:\n",
        "    print(f'{i} is loading...')\n",
        "    path=os.path.join(datadir, i)\n",
        "\n",
        "    for img in os.listdir(path):\n",
        "        img_array = imread(os.path.join(path,img))\n",
        "        img_gray = cv2.cvtColor(img_array, cv2.COLOR_BGR2GRAY)\n",
        "        img_resized = resize(img_gray,(320,240))\n",
        "        flat_arr.append(img_resized.flatten())\n",
        "        target_arr.append(kategori_data.index(i))\n",
        "    print(f'{i} is successfully loaded.')\n",
        "\n",
        "flattenData = np.array(flat_arr)\n",
        "target = np.array(target_arr)\n",
        "df = pd.DataFrame(flattenData) #dataframe\n",
        "df['Target'] = target\n",
        "x = df.iloc[:,:-1] #input data \n",
        "y = df.iloc[:,-1] #output data"
      ],
      "execution_count": null,
      "outputs": [
        {
          "output_type": "stream",
          "text": [
            "sunflower is loading...\n",
            "sunflower is successfully loaded.\n",
            "dandelion is loading...\n",
            "dandelion is successfully loaded.\n",
            "rose is loading...\n",
            "rose is successfully loaded.\n"
          ],
          "name": "stdout"
        }
      ]
    },
    {
      "cell_type": "code",
      "metadata": {
        "id": "ur9Yc8FtB4zZ"
      },
      "source": [
        "from sklearn import svm\n",
        "from sklearn.model_selection import GridSearchCV\n",
        "\n",
        "svm = svm.SVC(probability = True, random_state = 13)\n",
        "\n",
        "param_grid = {'kernel':['linear', 'rbf', 'poly']}\n",
        "\n",
        "model = GridSearchCV(svm, param_grid)"
      ],
      "execution_count": null,
      "outputs": []
    },
    {
      "cell_type": "code",
      "metadata": {
        "colab": {
          "base_uri": "https://localhost:8080/"
        },
        "id": "D_0PgYkkCet9",
        "outputId": "05a7c6a0-7fd8-4826-9932-a84860d837c8"
      },
      "source": [
        "from sklearn.model_selection import train_test_split\n",
        "x_train, x_test, y_train, y_test = train_test_split(x, y, test_size = 0.2, random_state = 13, stratify = y)\n",
        "print('Data is splitted Successfully')\n",
        "model.fit(x_train, y_train)\n",
        "print('The Model is trained well with the given images')"
      ],
      "execution_count": null,
      "outputs": [
        {
          "output_type": "stream",
          "text": [
            "Data is splitted Successfully\n",
            "The Model is trained well with the given images\n"
          ],
          "name": "stdout"
        }
      ]
    },
    {
      "cell_type": "code",
      "metadata": {
        "colab": {
          "base_uri": "https://localhost:8080/"
        },
        "id": "Kqj-iZKaCjBa",
        "outputId": "e1cac91c-04bd-4992-b55c-83feaafd8025"
      },
      "source": [
        "from sklearn.metrics import accuracy_score\n",
        "y_pred = model.predict(x_test)\n",
        "print(\"The predicted Data is :\")\n",
        "print(y_pred)\n",
        "print(\"\\nThe actual data is:\")\n",
        "print(np.array(y_test))\n",
        "print(f\"The model is {accuracy_score(y_pred,y_test)*100}% accurate\")"
      ],
      "execution_count": null,
      "outputs": [
        {
          "output_type": "stream",
          "text": [
            "The predicted Data is :\n",
            "[0 1 0 0 2 0 0 0 0 2 2 1 0 0 1 1 2 1 0 1 1 0 1 0 1 0 2 0 1 2 0 1 0 2 1 0 2\n",
            " 0 0 0 0 0 2 2 1 0 2 1 1 0 2 0 1 0 0 2 2 2 0 1]\n",
            "\n",
            "The actual data is:\n",
            "[0 1 2 1 2 0 0 2 0 2 2 1 1 0 2 1 1 0 1 1 1 0 2 2 1 2 2 0 1 2 0 1 0 2 1 0 2\n",
            " 0 0 0 0 2 2 2 1 0 1 0 2 1 2 0 1 0 0 2 2 1 1 1]\n",
            "The model is 70.0% accurate\n"
          ],
          "name": "stdout"
        }
      ]
    },
    {
      "cell_type": "code",
      "metadata": {
        "id": "nJYdh9y0M9Wu",
        "colab": {
          "base_uri": "https://localhost:8080/"
        },
        "outputId": "415409bc-1c3d-4f8f-ae4f-95ab11981ad0"
      },
      "source": [
        "print(model.best_params_)"
      ],
      "execution_count": null,
      "outputs": [
        {
          "output_type": "stream",
          "text": [
            "{'kernel': 'rbf'}\n"
          ],
          "name": "stdout"
        }
      ]
    },
    {
      "cell_type": "code",
      "metadata": {
        "id": "1NnVkmAh2yVb"
      },
      "source": [
        ""
      ],
      "execution_count": null,
      "outputs": []
    }
  ]
}